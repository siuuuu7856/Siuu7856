{
  "cells": [
    {
      "cell_type": "code",
      "execution_count": null,
      "metadata": {
        "id": "VjYy0F2gZIPR"
      },
      "outputs": [],
      "source": [
        "%cd /content\n",
        "!git clone https://github.com/MoonRide303/Fooocus-MRE.git\n",
        "%cd Fooocus-MRE\n",
        "!cp settings-no-refiner.json settings.json\n",
        "!pip install pygit2==1.12.2"
      ]
    },
    {
      "cell_type": "code",
      "source": [
        "# Install aria2c\n",
        "!apt install aria2 -y\n",
        "\n",
        "# Download the file with aria2c\n",
        "!aria2c -x 16 -s 16 -d /content/Fooocus/models/checkpoints \"https://huggingface.co/bluepen5805/anima_pencil-XL/blob/main/anima_pencil-XL-v5.0.0.safetensors\"\n",
        "\n",
        "# Verify the downloaded file\n",
        "!ls /content/Fooocus/models/checkpoints"
      ],
      "metadata": {
        "id": "dHdSRj0AcATc"
      },
      "execution_count": null,
      "outputs": []
    },
    {
      "cell_type": "code",
      "source": [
        "!python entry_with_update.py --share"
      ],
      "metadata": {
        "id": "riYDD6kscZyO"
      },
      "execution_count": null,
      "outputs": []
    }
  ],
  "metadata": {
    "accelerator": "GPU",
    "colab": {
      "gpuType": "T4",
      "provenance": []
    },
    "kernelspec": {
      "display_name": "Python 3",
      "name": "python3"
    },
    "language_info": {
      "name": "python"
    }
  },
  "nbformat": 4,
  "nbformat_minor": 0
}